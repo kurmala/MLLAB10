{
  "nbformat": 4,
  "nbformat_minor": 0,
  "metadata": {
    "colab": {
      "name": "vishnulab8.ipynb",
      "provenance": [],
      "authorship_tag": "ABX9TyP8libXbESgdDbzFKq4UZyv",
      "include_colab_link": true
    },
    "kernelspec": {
      "name": "python3",
      "display_name": "Python 3"
    }
  },
  "cells": [
    {
      "cell_type": "markdown",
      "metadata": {
        "id": "view-in-github",
        "colab_type": "text"
      },
      "source": [
        "<a href=\"https://colab.research.google.com/github/kurmala/MLLAB10/blob/master/vishnulab8.ipynb\" target=\"_parent\"><img src=\"https://colab.research.google.com/assets/colab-badge.svg\" alt=\"Open In Colab\"/></a>"
      ]
    },
    {
      "cell_type": "code",
      "metadata": {
        "id": "posEuMXRcVn0",
        "colab_type": "code",
        "colab": {
          "base_uri": "https://localhost:8080/",
          "height": 400
        },
        "outputId": "7ea04f9b-d87a-44ed-d917-7bac6b2d7ff4"
      },
      "source": [
        "#importing necessary libraries\n",
        "import numpy as np \n",
        "import pandas as pd \n",
        "import seaborn as sns\n",
        "import matplotlib.pyplot as plt\n",
        "%matplotlib inline\n",
        "\n",
        "from sklearn.ensemble import RandomForestClassifier, GradientBoostingClassifier\n",
        "from sklearn.linear_model import LogisticRegression\n",
        "from sklearn.metrics import (accuracy_score, log_loss, classification_report)\n",
        "from imblearn.over_sampling import SMOTE\n",
        "\n",
        "#Reading the values..\n",
        "df = pd.read_csv('/content/WA_Fn-UseC_-HR-Employee-Attrition.csv')\n",
        "df.head()\n"
      ],
      "execution_count": 1,
      "outputs": [
        {
          "output_type": "stream",
          "text": [
            "/usr/local/lib/python3.6/dist-packages/statsmodels/tools/_testing.py:19: FutureWarning: pandas.util.testing is deprecated. Use the functions in the public API at pandas.testing instead.\n",
            "  import pandas.util.testing as tm\n",
            "/usr/local/lib/python3.6/dist-packages/sklearn/externals/six.py:31: FutureWarning: The module is deprecated in version 0.21 and will be removed in version 0.23 since we've dropped support for Python 2.7. Please rely on the official version of six (https://pypi.org/project/six/).\n",
            "  \"(https://pypi.org/project/six/).\", FutureWarning)\n",
            "/usr/local/lib/python3.6/dist-packages/sklearn/utils/deprecation.py:144: FutureWarning: The sklearn.neighbors.base module is  deprecated in version 0.22 and will be removed in version 0.24. The corresponding classes / functions should instead be imported from sklearn.neighbors. Anything that cannot be imported from sklearn.neighbors is now part of the private API.\n",
            "  warnings.warn(message, FutureWarning)\n"
          ],
          "name": "stderr"
        },
        {
          "output_type": "execute_result",
          "data": {
            "text/html": [
              "<div>\n",
              "<style scoped>\n",
              "    .dataframe tbody tr th:only-of-type {\n",
              "        vertical-align: middle;\n",
              "    }\n",
              "\n",
              "    .dataframe tbody tr th {\n",
              "        vertical-align: top;\n",
              "    }\n",
              "\n",
              "    .dataframe thead th {\n",
              "        text-align: right;\n",
              "    }\n",
              "</style>\n",
              "<table border=\"1\" class=\"dataframe\">\n",
              "  <thead>\n",
              "    <tr style=\"text-align: right;\">\n",
              "      <th></th>\n",
              "      <th>Age</th>\n",
              "      <th>Attrition</th>\n",
              "      <th>BusinessTravel</th>\n",
              "      <th>DailyRate</th>\n",
              "      <th>Department</th>\n",
              "      <th>DistanceFromHome</th>\n",
              "      <th>Education</th>\n",
              "      <th>EducationField</th>\n",
              "      <th>EmployeeCount</th>\n",
              "      <th>EmployeeNumber</th>\n",
              "      <th>EnvironmentSatisfaction</th>\n",
              "      <th>Gender</th>\n",
              "      <th>HourlyRate</th>\n",
              "      <th>JobInvolvement</th>\n",
              "      <th>JobLevel</th>\n",
              "      <th>JobRole</th>\n",
              "      <th>JobSatisfaction</th>\n",
              "      <th>MaritalStatus</th>\n",
              "      <th>MonthlyIncome</th>\n",
              "      <th>MonthlyRate</th>\n",
              "      <th>NumCompaniesWorked</th>\n",
              "      <th>Over18</th>\n",
              "      <th>OverTime</th>\n",
              "      <th>PercentSalaryHike</th>\n",
              "      <th>PerformanceRating</th>\n",
              "      <th>RelationshipSatisfaction</th>\n",
              "      <th>StandardHours</th>\n",
              "      <th>StockOptionLevel</th>\n",
              "      <th>TotalWorkingYears</th>\n",
              "      <th>TrainingTimesLastYear</th>\n",
              "      <th>WorkLifeBalance</th>\n",
              "      <th>YearsAtCompany</th>\n",
              "      <th>YearsInCurrentRole</th>\n",
              "      <th>YearsSinceLastPromotion</th>\n",
              "      <th>YearsWithCurrManager</th>\n",
              "    </tr>\n",
              "  </thead>\n",
              "  <tbody>\n",
              "    <tr>\n",
              "      <th>0</th>\n",
              "      <td>41</td>\n",
              "      <td>Yes</td>\n",
              "      <td>Travel_Rarely</td>\n",
              "      <td>1102</td>\n",
              "      <td>Sales</td>\n",
              "      <td>1</td>\n",
              "      <td>2</td>\n",
              "      <td>Life Sciences</td>\n",
              "      <td>1</td>\n",
              "      <td>1</td>\n",
              "      <td>2</td>\n",
              "      <td>Female</td>\n",
              "      <td>94</td>\n",
              "      <td>3</td>\n",
              "      <td>2</td>\n",
              "      <td>Sales Executive</td>\n",
              "      <td>4</td>\n",
              "      <td>Single</td>\n",
              "      <td>5993</td>\n",
              "      <td>19479</td>\n",
              "      <td>8</td>\n",
              "      <td>Y</td>\n",
              "      <td>Yes</td>\n",
              "      <td>11</td>\n",
              "      <td>3</td>\n",
              "      <td>1</td>\n",
              "      <td>80</td>\n",
              "      <td>0</td>\n",
              "      <td>8</td>\n",
              "      <td>0</td>\n",
              "      <td>1</td>\n",
              "      <td>6</td>\n",
              "      <td>4</td>\n",
              "      <td>0</td>\n",
              "      <td>5</td>\n",
              "    </tr>\n",
              "    <tr>\n",
              "      <th>1</th>\n",
              "      <td>49</td>\n",
              "      <td>No</td>\n",
              "      <td>Travel_Frequently</td>\n",
              "      <td>279</td>\n",
              "      <td>Research &amp; Development</td>\n",
              "      <td>8</td>\n",
              "      <td>1</td>\n",
              "      <td>Life Sciences</td>\n",
              "      <td>1</td>\n",
              "      <td>2</td>\n",
              "      <td>3</td>\n",
              "      <td>Male</td>\n",
              "      <td>61</td>\n",
              "      <td>2</td>\n",
              "      <td>2</td>\n",
              "      <td>Research Scientist</td>\n",
              "      <td>2</td>\n",
              "      <td>Married</td>\n",
              "      <td>5130</td>\n",
              "      <td>24907</td>\n",
              "      <td>1</td>\n",
              "      <td>Y</td>\n",
              "      <td>No</td>\n",
              "      <td>23</td>\n",
              "      <td>4</td>\n",
              "      <td>4</td>\n",
              "      <td>80</td>\n",
              "      <td>1</td>\n",
              "      <td>10</td>\n",
              "      <td>3</td>\n",
              "      <td>3</td>\n",
              "      <td>10</td>\n",
              "      <td>7</td>\n",
              "      <td>1</td>\n",
              "      <td>7</td>\n",
              "    </tr>\n",
              "    <tr>\n",
              "      <th>2</th>\n",
              "      <td>37</td>\n",
              "      <td>Yes</td>\n",
              "      <td>Travel_Rarely</td>\n",
              "      <td>1373</td>\n",
              "      <td>Research &amp; Development</td>\n",
              "      <td>2</td>\n",
              "      <td>2</td>\n",
              "      <td>Other</td>\n",
              "      <td>1</td>\n",
              "      <td>4</td>\n",
              "      <td>4</td>\n",
              "      <td>Male</td>\n",
              "      <td>92</td>\n",
              "      <td>2</td>\n",
              "      <td>1</td>\n",
              "      <td>Laboratory Technician</td>\n",
              "      <td>3</td>\n",
              "      <td>Single</td>\n",
              "      <td>2090</td>\n",
              "      <td>2396</td>\n",
              "      <td>6</td>\n",
              "      <td>Y</td>\n",
              "      <td>Yes</td>\n",
              "      <td>15</td>\n",
              "      <td>3</td>\n",
              "      <td>2</td>\n",
              "      <td>80</td>\n",
              "      <td>0</td>\n",
              "      <td>7</td>\n",
              "      <td>3</td>\n",
              "      <td>3</td>\n",
              "      <td>0</td>\n",
              "      <td>0</td>\n",
              "      <td>0</td>\n",
              "      <td>0</td>\n",
              "    </tr>\n",
              "    <tr>\n",
              "      <th>3</th>\n",
              "      <td>33</td>\n",
              "      <td>No</td>\n",
              "      <td>Travel_Frequently</td>\n",
              "      <td>1392</td>\n",
              "      <td>Research &amp; Development</td>\n",
              "      <td>3</td>\n",
              "      <td>4</td>\n",
              "      <td>Life Sciences</td>\n",
              "      <td>1</td>\n",
              "      <td>5</td>\n",
              "      <td>4</td>\n",
              "      <td>Female</td>\n",
              "      <td>56</td>\n",
              "      <td>3</td>\n",
              "      <td>1</td>\n",
              "      <td>Research Scientist</td>\n",
              "      <td>3</td>\n",
              "      <td>Married</td>\n",
              "      <td>2909</td>\n",
              "      <td>23159</td>\n",
              "      <td>1</td>\n",
              "      <td>Y</td>\n",
              "      <td>Yes</td>\n",
              "      <td>11</td>\n",
              "      <td>3</td>\n",
              "      <td>3</td>\n",
              "      <td>80</td>\n",
              "      <td>0</td>\n",
              "      <td>8</td>\n",
              "      <td>3</td>\n",
              "      <td>3</td>\n",
              "      <td>8</td>\n",
              "      <td>7</td>\n",
              "      <td>3</td>\n",
              "      <td>0</td>\n",
              "    </tr>\n",
              "    <tr>\n",
              "      <th>4</th>\n",
              "      <td>27</td>\n",
              "      <td>No</td>\n",
              "      <td>Travel_Rarely</td>\n",
              "      <td>591</td>\n",
              "      <td>Research &amp; Development</td>\n",
              "      <td>2</td>\n",
              "      <td>1</td>\n",
              "      <td>Medical</td>\n",
              "      <td>1</td>\n",
              "      <td>7</td>\n",
              "      <td>1</td>\n",
              "      <td>Male</td>\n",
              "      <td>40</td>\n",
              "      <td>3</td>\n",
              "      <td>1</td>\n",
              "      <td>Laboratory Technician</td>\n",
              "      <td>2</td>\n",
              "      <td>Married</td>\n",
              "      <td>3468</td>\n",
              "      <td>16632</td>\n",
              "      <td>9</td>\n",
              "      <td>Y</td>\n",
              "      <td>No</td>\n",
              "      <td>12</td>\n",
              "      <td>3</td>\n",
              "      <td>4</td>\n",
              "      <td>80</td>\n",
              "      <td>1</td>\n",
              "      <td>6</td>\n",
              "      <td>3</td>\n",
              "      <td>3</td>\n",
              "      <td>2</td>\n",
              "      <td>2</td>\n",
              "      <td>2</td>\n",
              "      <td>2</td>\n",
              "    </tr>\n",
              "  </tbody>\n",
              "</table>\n",
              "</div>"
            ],
            "text/plain": [
              "   Age Attrition  ... YearsSinceLastPromotion  YearsWithCurrManager\n",
              "0   41       Yes  ...                       0                     5\n",
              "1   49        No  ...                       1                     7\n",
              "2   37       Yes  ...                       0                     0\n",
              "3   33        No  ...                       3                     0\n",
              "4   27        No  ...                       2                     2\n",
              "\n",
              "[5 rows x 35 columns]"
            ]
          },
          "metadata": {
            "tags": []
          },
          "execution_count": 1
        }
      ]
    },
    {
      "cell_type": "code",
      "metadata": {
        "id": "TZUULQshiyqV",
        "colab_type": "code",
        "colab": {
          "base_uri": "https://localhost:8080/",
          "height": 34
        },
        "outputId": "052b0834-6541-4e44-ccf9-76dab1e4772d"
      },
      "source": [
        "df.shape"
      ],
      "execution_count": 2,
      "outputs": [
        {
          "output_type": "execute_result",
          "data": {
            "text/plain": [
              "(1470, 35)"
            ]
          },
          "metadata": {
            "tags": []
          },
          "execution_count": 2
        }
      ]
    },
    {
      "cell_type": "code",
      "metadata": {
        "id": "eGUDcZ5Di8ed",
        "colab_type": "code",
        "colab": {
          "base_uri": "https://localhost:8080/",
          "height": 622
        },
        "outputId": "42a26dd4-fc41-4a4d-9164-c48d1a7ab9a6"
      },
      "source": [
        "#To know about null values.\n",
        "print(df.isnull().any())"
      ],
      "execution_count": 3,
      "outputs": [
        {
          "output_type": "stream",
          "text": [
            "Age                         False\n",
            "Attrition                   False\n",
            "BusinessTravel              False\n",
            "DailyRate                   False\n",
            "Department                  False\n",
            "DistanceFromHome            False\n",
            "Education                   False\n",
            "EducationField              False\n",
            "EmployeeCount               False\n",
            "EmployeeNumber              False\n",
            "EnvironmentSatisfaction     False\n",
            "Gender                      False\n",
            "HourlyRate                  False\n",
            "JobInvolvement              False\n",
            "JobLevel                    False\n",
            "JobRole                     False\n",
            "JobSatisfaction             False\n",
            "MaritalStatus               False\n",
            "MonthlyIncome               False\n",
            "MonthlyRate                 False\n",
            "NumCompaniesWorked          False\n",
            "Over18                      False\n",
            "OverTime                    False\n",
            "PercentSalaryHike           False\n",
            "PerformanceRating           False\n",
            "RelationshipSatisfaction    False\n",
            "StandardHours               False\n",
            "StockOptionLevel            False\n",
            "TotalWorkingYears           False\n",
            "TrainingTimesLastYear       False\n",
            "WorkLifeBalance             False\n",
            "YearsAtCompany              False\n",
            "YearsInCurrentRole          False\n",
            "YearsSinceLastPromotion     False\n",
            "YearsWithCurrManager        False\n",
            "dtype: bool\n"
          ],
          "name": "stdout"
        }
      ]
    },
    {
      "cell_type": "markdown",
      "metadata": {
        "id": "zJVhGebEjPEG",
        "colab_type": "text"
      },
      "source": [
        "there no null values in the data set"
      ]
    },
    {
      "cell_type": "code",
      "metadata": {
        "id": "XuRB3pSNjVKD",
        "colab_type": "code",
        "colab": {
          "base_uri": "https://localhost:8080/",
          "height": 304
        },
        "outputId": "8145ac76-96b0-4f76-e2f5-fffeb06b31f9"
      },
      "source": [
        "df.Attrition.value_counts().plot(kind='bar', color=\"blue\", alpha=0.7)\n",
        "plt.title(\"Attrition Breakdown\")"
      ],
      "execution_count": 4,
      "outputs": [
        {
          "output_type": "execute_result",
          "data": {
            "text/plain": [
              "Text(0.5, 1.0, 'Attrition Breakdown')"
            ]
          },
          "metadata": {
            "tags": []
          },
          "execution_count": 4
        },
        {
          "output_type": "display_data",
          "data": {
            "image/png": "[encoded data removed]",
            "text/plain": [
              "<Figure size 432x288 with 1 Axes>"
            ]
          },
          "metadata": {
            "tags": [],
            "needs_background": "light"
          }
        }
      ]
    },
    {
      "cell_type": "markdown",
      "metadata": {
        "id": "F49xSmTYj3HU",
        "colab_type": "text"
      },
      "source": [
        "Now let us know which feature has more impact on attrition"
      ]
    },
    {
      "cell_type": "code",
      "metadata": {
        "id": "bpPahziajmSo",
        "colab_type": "code",
        "colab": {
          "base_uri": "https://localhost:8080/",
          "height": 338
        },
        "outputId": "d1999b28-7093-4157-e9b6-2ddf31d2c52d"
      },
      "source": [
        "#Breakdown of attricutes with respect to gender...\n",
        "pd.crosstab(df.Gender,df.Attrition).plot(kind='bar')\n",
        "plt.title('Attrition with respect to Gender')\n",
        "plt.xlabel('Gender')\n",
        "plt.ylabel('Frequency')"
      ],
      "execution_count": 6,
      "outputs": [
        {
          "output_type": "execute_result",
          "data": {
            "text/plain": [
              "Text(0, 0.5, 'Frequency')"
            ]
          },
          "metadata": {
            "tags": []
          },
          "execution_count": 6
        },
        {
          "output_type": "display_data",
          "data": {
            "image/png": "[encoded data removed]",
            "text/plain": [
              "<Figure size 432x288 with 1 Axes>"
            ]
          },
          "metadata": {
            "tags": [],
            "needs_background": "light"
          }
        }
      ]
    },
    {
      "cell_type": "code",
      "metadata": {
        "id": "uYznINgkkCsZ",
        "colab_type": "code",
        "colab": {
          "base_uri": "https://localhost:8080/",
          "height": 429
        },
        "outputId": "a4857928-8aa0-4684-f569-f63fe2df1373"
      },
      "source": [
        "pd.crosstab(df.Department,df.Attrition).plot(kind='bar', stacked=False)\n",
        "plt.title('Attrition with respect to Department')\n",
        "plt.xlabel('Department')\n",
        "plt.ylabel('Frequency of Attrition')"
      ],
      "execution_count": 8,
      "outputs": [
        {
          "output_type": "execute_result",
          "data": {
            "text/plain": [
              "Text(0, 0.5, 'Frequency of Attrition')"
            ]
          },
          "metadata": {
            "tags": []
          },
          "execution_count": 8
        },
        {
          "output_type": "display_data",
          "data": {
            "image/png": "[encoded data removed]",
            "text/plain": [
              "<Figure size 432x288 with 1 Axes>"
            ]
          },
          "metadata": {
            "tags": [],
            "needs_background": "light"
          }
        }
      ]
    },
    {
      "cell_type": "code",
      "metadata": {
        "id": "mUJi7iEikfkz",
        "colab_type": "code",
        "colab": {
          "base_uri": "https://localhost:8080/",
          "height": 390
        },
        "outputId": "1503721d-3726-4fde-a788-17561e01132d"
      },
      "source": [
        "pd.crosstab(df.BusinessTravel,df.Attrition).plot(kind='bar')\n",
        "plt.title('Attrition with respect to BusinessTravel')\n",
        "plt.xlabel('BusinessTravel')\n",
        "plt.ylabel('Frequency of Attrition')\n"
      ],
      "execution_count": 10,
      "outputs": [
        {
          "output_type": "execute_result",
          "data": {
            "text/plain": [
              "Text(0, 0.5, 'Frequency of Attrition')"
            ]
          },
          "metadata": {
            "tags": []
          },
          "execution_count": 10
        },
        {
          "output_type": "display_data",
          "data": {
            "image/png": "[encoded data removed]",
            "text/plain": [
              "<Figure size 432x288 with 1 Axes>"
            ]
          },
          "metadata": {
            "tags": [],
            "needs_background": "light"
          }
        }
      ]
    },
    {
      "cell_type": "code",
      "metadata": {
        "id": "xJteQsadlTQF",
        "colab_type": "code",
        "colab": {
          "base_uri": "https://localhost:8080/",
          "height": 435
        },
        "outputId": "0bf604ef-325b-4fb5-85d6-920050fcbc25"
      },
      "source": [
        "pd.crosstab(df.JobRole,df['Attrition']).plot(kind='bar', stacked=False)\n",
        "plt.title('Attrition with respect to JobRole')\n",
        "plt.xlabel('JobRole')\n",
        "plt.ylabel('Frequency of Attrition')\n"
      ],
      "execution_count": 15,
      "outputs": [
        {
          "output_type": "execute_result",
          "data": {
            "text/plain": [
              "Text(0, 0.5, 'Frequency of Attrition')"
            ]
          },
          "metadata": {
            "tags": []
          },
          "execution_count": 15
        },
        {
          "output_type": "display_data",
          "data": {
            "image/png": "[encoded data removed]",
            "text/plain": [
              "<Figure size 432x288 with 1 Axes>"
            ]
          },
          "metadata": {
            "tags": [],
            "needs_background": "light"
          }
        }
      ]
    },
    {
      "cell_type": "code",
      "metadata": {
        "id": "DoYwjLdvlzCA",
        "colab_type": "code",
        "colab": {
          "base_uri": "https://localhost:8080/",
          "height": 392
        },
        "outputId": "d4facba9-6092-4c42-8abc-f7e78c83f003"
      },
      "source": [
        "pd.crosstab(df.EducationField,df.Attrition).plot(kind='bar',stacked=False)\n",
        "plt.title('Attrition with respect to EducationField')\n",
        "plt.xlabel('EducationField')\n",
        "plt.ylabel('Frequency of Attrition')"
      ],
      "execution_count": 13,
      "outputs": [
        {
          "output_type": "execute_result",
          "data": {
            "text/plain": [
              "Text(0, 0.5, 'Frequency of Attrition')"
            ]
          },
          "metadata": {
            "tags": []
          },
          "execution_count": 13
        },
        {
          "output_type": "display_data",
          "data": {
            "image/png": "[encoded data removed]",
            "text/plain": [
              "<Figure size 432x288 with 1 Axes>"
            ]
          },
          "metadata": {
            "tags": [],
            "needs_background": "light"
          }
        }
      ]
    },
    {
      "cell_type": "code",
      "metadata": {
        "id": "G64d0wLwmI3v",
        "colab_type": "code",
        "colab": {
          "base_uri": "https://localhost:8080/",
          "height": 309
        },
        "outputId": "0a463055-0ae2-40ea-e7a2-31e5683193ae"
      },
      "source": [
        "pd.crosstab(df.JobLevel,df.Attrition).plot(kind='bar',stacked=False)\n",
        "plt.title('Attrition with respect to JobLevel')\n",
        "plt.xlabel('JobLevel')\n",
        "plt.ylabel('Frequency of Attrition')"
      ],
      "execution_count": 17,
      "outputs": [
        {
          "output_type": "execute_result",
          "data": {
            "text/plain": [
              "Text(0, 0.5, 'Frequency of Attrition')"
            ]
          },
          "metadata": {
            "tags": []
          },
          "execution_count": 17
        },
        {
          "output_type": "display_data",
          "data": {
            "image/png": "[encoded data removed]",
            "text/plain": [
              "<Figure size 432x288 with 1 Axes>"
            ]
          },
          "metadata": {
            "tags": [],
            "needs_background": "light"
          }
        }
      ]
    },
    {
      "cell_type": "code",
      "metadata": {
        "id": "BdtK3FM8meXc",
        "colab_type": "code",
        "colab": {
          "base_uri": "https://localhost:8080/",
          "height": 309
        },
        "outputId": "acbb5a2e-8f92-4e6d-9c3f-c52acd94e71d"
      },
      "source": [
        "pd.crosstab(df.JobSatisfaction,df.Attrition).plot(kind='bar',stacked=False)\n",
        "plt.title('Attrition with respect to JobSatisfication')\n",
        "plt.xlabel('JobSatisfication')\n",
        "plt.ylabel('Frequency of Attrition')"
      ],
      "execution_count": 18,
      "outputs": [
        {
          "output_type": "execute_result",
          "data": {
            "text/plain": [
              "Text(0, 0.5, 'Frequency of Attrition')"
            ]
          },
          "metadata": {
            "tags": []
          },
          "execution_count": 18
        },
        {
          "output_type": "display_data",
          "data": {
            "image/png": "[encoded data removed]",
            "text/plain": [
              "<Figure size 432x288 with 1 Axes>"
            ]
          },
          "metadata": {
            "tags": [],
            "needs_background": "light"
          }
        }
      ]
    },
    {
      "cell_type": "code",
      "metadata": {
        "id": "Xp7Xc12Tmurd",
        "colab_type": "code",
        "colab": {
          "base_uri": "https://localhost:8080/",
          "height": 309
        },
        "outputId": "ec46b311-acb3-4806-cfe0-30a9ff7e4514"
      },
      "source": [
        "pd.crosstab(df.EnvironmentSatisfaction,df.Attrition).plot(kind='bar',stacked=False)\n",
        "plt.title('Attrition with respect to Environment Satisfication')\n",
        "plt.xlabel('Environment Satisfication')\n",
        "plt.ylabel('Frequency of Attrition')"
      ],
      "execution_count": 20,
      "outputs": [
        {
          "output_type": "execute_result",
          "data": {
            "text/plain": [
              "Text(0, 0.5, 'Frequency of Attrition')"
            ]
          },
          "metadata": {
            "tags": []
          },
          "execution_count": 20
        },
        {
          "output_type": "display_data",
          "data": {
            "image/png": "[encoded data removed]",
            "text/plain": [
              "<Figure size 432x288 with 1 Axes>"
            ]
          },
          "metadata": {
            "tags": [],
            "needs_background": "light"
          }
        }
      ]
    },
    {
      "cell_type": "code",
      "metadata": {
        "id": "0baCa5_8nF3x",
        "colab_type": "code",
        "colab": {
          "base_uri": "https://localhost:8080/",
          "height": 363
        },
        "outputId": "4b3d6b01-6175-41a4-b4da-0098bc3d2999"
      },
      "source": [
        "wcorr = df.corr()\n",
        "plt.matshow(wcorr.abs())\n",
        "plt.colorbar()\n",
        "plt.xticks(range(len(wcorr.columns)), wcorr.columns, rotation='vertical');\n",
        "plt.yticks(range(len(wcorr.columns)), wcorr.columns);"
      ],
      "execution_count": 21,
      "outputs": [
        {
          "output_type": "display_data",
          "data": {
            "image/png": "[encoded data removed]",
            "text/plain": [
              "<Figure size 288x288 with 2 Axes>"
            ]
          },
          "metadata": {
            "tags": [],
            "needs_background": "light"
          }
        }
      ]
    },
    {
      "cell_type": "code",
      "metadata": {
        "id": "pPSMbDcgnmo1",
        "colab_type": "code",
        "colab": {}
      },
      "source": [
        "attrition_tar= df.drop(['Attrition'], axis=1)"
      ],
      "execution_count": 0,
      "outputs": []
    },
    {
      "cell_type": "code",
      "metadata": {
        "id": "9U_emNrLpOlO",
        "colab_type": "code",
        "colab": {}
      },
      "source": [
        "y=df['Attrition']"
      ],
      "execution_count": 0,
      "outputs": []
    },
    {
      "cell_type": "markdown",
      "metadata": {
        "id": "NoIiJX2ntUft",
        "colab_type": "text"
      },
      "source": [
        "Spliting data into two parts"
      ]
    },
    {
      "cell_type": "code",
      "metadata": {
        "id": "mAerGWm1pcAA",
        "colab_type": "code",
        "colab": {
          "base_uri": "https://localhost:8080/",
          "height": 84
        },
        "outputId": "242eb2fe-3c5d-4b22-fe34-5f420af48a6f"
      },
      "source": [
        "from sklearn.model_selection import train_test_split\n",
        "x_train, x_test, y_train, y_test = train_test_split(attrition_tar,y,train_size= 0.80,random_state=0);\n"
      ],
      "execution_count": 28,
      "outputs": [
        {
          "output_type": "stream",
          "text": [
            "(1176, 34)\n",
            "(1176,)\n",
            "(294, 34)\n",
            "(294,)\n"
          ],
          "name": "stdout"
        }
      ]
    },
    {
      "cell_type": "markdown",
      "metadata": {
        "id": "lugzogshqS3v",
        "colab_type": "text"
      },
      "source": [
        "DATA PREPROCESSING\n",
        "\n",
        "we will encode the features and catagorical data"
      ]
    },
    {
      "cell_type": "code",
      "metadata": {
        "id": "QTRA-_MjqMon",
        "colab_type": "code",
        "colab": {}
      },
      "source": [
        "def encoding(data):\n",
        "    \n",
        "    categorical = []\n",
        "    for col, value in data.iteritems():\n",
        "        if value.dtype == 'object':\n",
        "            categorical.append(col)\n",
        "\n",
        "    \n",
        "    numerical = data.columns.difference(categorical)\n",
        "    attrition_cat = data[categorical]\n",
        "    attrition_cat = pd.get_dummies(attrition_cat)\n",
        "    \n",
        "    attrition_num = data[numerical]\n",
        "    \n",
        "    attrition_final = pd.concat([attrition_num, attrition_cat], axis=1)\n",
        "    print(attrition_final.columns)\n",
        "    return attrition_final"
      ],
      "execution_count": 0,
      "outputs": []
    },
    {
      "cell_type": "code",
      "metadata": {
        "id": "Ys6vQEJ0qnod",
        "colab_type": "code",
        "colab": {
          "base_uri": "https://localhost:8080/",
          "height": 403
        },
        "outputId": "c4b4d739-9833-445f-8b35-02cc1768ee74"
      },
      "source": [
        "x_train_encode=encoding(x_train)\n",
        "x_train_encode.shape"
      ],
      "execution_count": 30,
      "outputs": [
        {
          "output_type": "stream",
          "text": [
            "Index(['Age', 'DailyRate', 'DistanceFromHome', 'Education', 'EmployeeCount',\n",
            "       'EmployeeNumber', 'EnvironmentSatisfaction', 'HourlyRate',\n",
            "       'JobInvolvement', 'JobLevel', 'JobSatisfaction', 'MonthlyIncome',\n",
            "       'MonthlyRate', 'NumCompaniesWorked', 'PercentSalaryHike',\n",
            "       'PerformanceRating', 'RelationshipSatisfaction', 'StandardHours',\n",
            "       'StockOptionLevel', 'TotalWorkingYears', 'TrainingTimesLastYear',\n",
            "       'WorkLifeBalance', 'YearsAtCompany', 'YearsInCurrentRole',\n",
            "       'YearsSinceLastPromotion', 'YearsWithCurrManager',\n",
            "       'BusinessTravel_Non-Travel', 'BusinessTravel_Travel_Frequently',\n",
            "       'BusinessTravel_Travel_Rarely', 'Department_Human Resources',\n",
            "       'Department_Research & Development', 'Department_Sales',\n",
            "       'EducationField_Human Resources', 'EducationField_Life Sciences',\n",
            "       'EducationField_Marketing', 'EducationField_Medical',\n",
            "       'EducationField_Other', 'EducationField_Technical Degree',\n",
            "       'Gender_Female', 'Gender_Male', 'JobRole_Healthcare Representative',\n",
            "       'JobRole_Human Resources', 'JobRole_Laboratory Technician',\n",
            "       'JobRole_Manager', 'JobRole_Manufacturing Director',\n",
            "       'JobRole_Research Director', 'JobRole_Research Scientist',\n",
            "       'JobRole_Sales Executive', 'JobRole_Sales Representative',\n",
            "       'MaritalStatus_Divorced', 'MaritalStatus_Married',\n",
            "       'MaritalStatus_Single', 'Over18_Y', 'OverTime_No', 'OverTime_Yes'],\n",
            "      dtype='object')\n"
          ],
          "name": "stdout"
        },
        {
          "output_type": "execute_result",
          "data": {
            "text/plain": [
              "(1176, 55)"
            ]
          },
          "metadata": {
            "tags": []
          },
          "execution_count": 30
        }
      ]
    },
    {
      "cell_type": "code",
      "metadata": {
        "id": "pt6FQYqOqpyi",
        "colab_type": "code",
        "colab": {
          "base_uri": "https://localhost:8080/",
          "height": 403
        },
        "outputId": "9670e543-c8d0-4be3-df20-6e4f3d409002"
      },
      "source": [
        "x_train_encode=encoding(x_train)\n",
        "x_train_encode.shape"
      ],
      "execution_count": 31,
      "outputs": [
        {
          "output_type": "stream",
          "text": [
            "Index(['Age', 'DailyRate', 'DistanceFromHome', 'Education', 'EmployeeCount',\n",
            "       'EmployeeNumber', 'EnvironmentSatisfaction', 'HourlyRate',\n",
            "       'JobInvolvement', 'JobLevel', 'JobSatisfaction', 'MonthlyIncome',\n",
            "       'MonthlyRate', 'NumCompaniesWorked', 'PercentSalaryHike',\n",
            "       'PerformanceRating', 'RelationshipSatisfaction', 'StandardHours',\n",
            "       'StockOptionLevel', 'TotalWorkingYears', 'TrainingTimesLastYear',\n",
            "       'WorkLifeBalance', 'YearsAtCompany', 'YearsInCurrentRole',\n",
            "       'YearsSinceLastPromotion', 'YearsWithCurrManager',\n",
            "       'BusinessTravel_Non-Travel', 'BusinessTravel_Travel_Frequently',\n",
            "       'BusinessTravel_Travel_Rarely', 'Department_Human Resources',\n",
            "       'Department_Research & Development', 'Department_Sales',\n",
            "       'EducationField_Human Resources', 'EducationField_Life Sciences',\n",
            "       'EducationField_Marketing', 'EducationField_Medical',\n",
            "       'EducationField_Other', 'EducationField_Technical Degree',\n",
            "       'Gender_Female', 'Gender_Male', 'JobRole_Healthcare Representative',\n",
            "       'JobRole_Human Resources', 'JobRole_Laboratory Technician',\n",
            "       'JobRole_Manager', 'JobRole_Manufacturing Director',\n",
            "       'JobRole_Research Director', 'JobRole_Research Scientist',\n",
            "       'JobRole_Sales Executive', 'JobRole_Sales Representative',\n",
            "       'MaritalStatus_Divorced', 'MaritalStatus_Married',\n",
            "       'MaritalStatus_Single', 'Over18_Y', 'OverTime_No', 'OverTime_Yes'],\n",
            "      dtype='object')\n"
          ],
          "name": "stdout"
        },
        {
          "output_type": "execute_result",
          "data": {
            "text/plain": [
              "(1176, 55)"
            ]
          },
          "metadata": {
            "tags": []
          },
          "execution_count": 31
        }
      ]
    },
    {
      "cell_type": "code",
      "metadata": {
        "id": "xYmM-pnPqyAk",
        "colab_type": "code",
        "colab": {
          "base_uri": "https://localhost:8080/",
          "height": 403
        },
        "outputId": "7f46726b-6658-4e5f-9d54-c6e251dee8ae"
      },
      "source": [
        "x_test_encode=encoding(x_test)\n",
        "x_test_encode.shape"
      ],
      "execution_count": 32,
      "outputs": [
        {
          "output_type": "stream",
          "text": [
            "Index(['Age', 'DailyRate', 'DistanceFromHome', 'Education', 'EmployeeCount',\n",
            "       'EmployeeNumber', 'EnvironmentSatisfaction', 'HourlyRate',\n",
            "       'JobInvolvement', 'JobLevel', 'JobSatisfaction', 'MonthlyIncome',\n",
            "       'MonthlyRate', 'NumCompaniesWorked', 'PercentSalaryHike',\n",
            "       'PerformanceRating', 'RelationshipSatisfaction', 'StandardHours',\n",
            "       'StockOptionLevel', 'TotalWorkingYears', 'TrainingTimesLastYear',\n",
            "       'WorkLifeBalance', 'YearsAtCompany', 'YearsInCurrentRole',\n",
            "       'YearsSinceLastPromotion', 'YearsWithCurrManager',\n",
            "       'BusinessTravel_Non-Travel', 'BusinessTravel_Travel_Frequently',\n",
            "       'BusinessTravel_Travel_Rarely', 'Department_Human Resources',\n",
            "       'Department_Research & Development', 'Department_Sales',\n",
            "       'EducationField_Human Resources', 'EducationField_Life Sciences',\n",
            "       'EducationField_Marketing', 'EducationField_Medical',\n",
            "       'EducationField_Other', 'EducationField_Technical Degree',\n",
            "       'Gender_Female', 'Gender_Male', 'JobRole_Healthcare Representative',\n",
            "       'JobRole_Human Resources', 'JobRole_Laboratory Technician',\n",
            "       'JobRole_Manager', 'JobRole_Manufacturing Director',\n",
            "       'JobRole_Research Director', 'JobRole_Research Scientist',\n",
            "       'JobRole_Sales Executive', 'JobRole_Sales Representative',\n",
            "       'MaritalStatus_Divorced', 'MaritalStatus_Married',\n",
            "       'MaritalStatus_Single', 'Over18_Y', 'OverTime_No', 'OverTime_Yes'],\n",
            "      dtype='object')\n"
          ],
          "name": "stdout"
        },
        {
          "output_type": "execute_result",
          "data": {
            "text/plain": [
              "(294, 55)"
            ]
          },
          "metadata": {
            "tags": []
          },
          "execution_count": 32
        }
      ]
    },
    {
      "cell_type": "code",
      "metadata": {
        "id": "LUV2Flayq-RC",
        "colab_type": "code",
        "colab": {}
      },
      "source": [
        "def target_encode(data):\n",
        "    \n",
        "    target_map = {'Yes':1, 'No':0}\n",
        "    target = data.apply(lambda x: target_map[x])\n",
        "    return target"
      ],
      "execution_count": 0,
      "outputs": []
    },
    {
      "cell_type": "code",
      "metadata": {
        "id": "r2AsAwgNr9Al",
        "colab_type": "code",
        "colab": {}
      },
      "source": [
        "y_train_encode=target_encode(y_train)\n",
        "y_test_encode=target_encode(y_test)"
      ],
      "execution_count": 0,
      "outputs": []
    },
    {
      "cell_type": "code",
      "metadata": {
        "id": "v53LJ8XhtlHk",
        "colab_type": "code",
        "colab": {
          "base_uri": "https://localhost:8080/",
          "height": 70
        },
        "outputId": "a2d885e2-150f-472a-a733-3694d565c82f"
      },
      "source": [
        "oversampler=SMOTE(random_state=0)\n",
        "smote_train, smote_target = oversampler.fit_sample(x_train_encode,y_train_encode)"
      ],
      "execution_count": 42,
      "outputs": [
        {
          "output_type": "stream",
          "text": [
            "/usr/local/lib/python3.6/dist-packages/sklearn/utils/deprecation.py:87: FutureWarning: Function safe_indexing is deprecated; safe_indexing is deprecated in version 0.22 and will be removed in version 0.24.\n",
            "  warnings.warn(msg, category=FutureWarning)\n"
          ],
          "name": "stderr"
        }
      ]
    },
    {
      "cell_type": "markdown",
      "metadata": {
        "id": "c-zm_x09ulLL",
        "colab_type": "text"
      },
      "source": [
        "APPLYING CLASSIFICATION ALGOS"
      ]
    },
    {
      "cell_type": "code",
      "metadata": {
        "id": "Ud0_LcD-t5BQ",
        "colab_type": "code",
        "colab": {
          "base_uri": "https://localhost:8080/",
          "height": 151
        },
        "outputId": "8baf8c00-c3bb-475c-f74b-691060b5c041"
      },
      "source": [
        "seed=0\n",
        "rfc_params = {\n",
        "    'n_jobs': -1,\n",
        "    'n_estimators': 1000,\n",
        "    'max_features': 0.3,\n",
        "    'max_depth': 4,\n",
        "    'min_samples_leaf': 2,\n",
        "    'max_features' : 'sqrt',\n",
        "    'random_state' : seed,\n",
        "    'verbose': 0\n",
        "}\n",
        "\n",
        "rfc = RandomForestClassifier(**rf_params)\n",
        "rfc.fit(smote_train, smote_target)\n"
      ],
      "execution_count": 47,
      "outputs": [
        {
          "output_type": "execute_result",
          "data": {
            "text/plain": [
              "RandomForestClassifier(bootstrap=True, ccp_alpha=0.0, class_weight=None,\n",
              "                       criterion='gini', max_depth=4, max_features='sqrt',\n",
              "                       max_leaf_nodes=None, max_samples=None,\n",
              "                       min_impurity_decrease=0.0, min_impurity_split=None,\n",
              "                       min_samples_leaf=2, min_samples_split=2,\n",
              "                       min_weight_fraction_leaf=0.0, n_estimators=1000,\n",
              "                       n_jobs=-1, oob_score=False, random_state=0, verbose=0,\n",
              "                       warm_start=False)"
            ]
          },
          "metadata": {
            "tags": []
          },
          "execution_count": 47
        }
      ]
    },
    {
      "cell_type": "code",
      "metadata": {
        "id": "5--K2OUWuN9w",
        "colab_type": "code",
        "colab": {
          "base_uri": "https://localhost:8080/",
          "height": 151
        },
        "outputId": "cf220152-4fa4-489f-b2c4-3a6668af92c8"
      },
      "source": [
        "rfc_pred = rf.predict(x_test_encode)\n",
        "print(rfc_pred)"
      ],
      "execution_count": 50,
      "outputs": [
        {
          "output_type": "stream",
          "text": [
            "[0 0 0 0 1 0 0 0 0 0 0 0 0 1 0 0 0 0 0 0 1 0 0 0 0 0 0 0 1 0 0 0 0 0 0 0 0\n",
            " 0 0 0 0 0 0 0 0 1 0 0 1 1 0 1 0 0 1 0 0 1 0 0 0 0 0 0 0 0 0 0 0 0 0 0 0 0\n",
            " 0 0 0 0 1 0 0 0 0 0 0 0 0 0 0 0 1 0 0 0 0 0 0 1 0 0 0 0 0 0 0 0 0 1 0 1 0\n",
            " 0 0 0 0 0 0 0 0 0 0 0 0 1 0 0 0 0 0 0 0 0 1 0 0 0 1 0 0 0 0 0 0 0 0 0 0 0\n",
            " 0 0 0 0 0 0 0 0 0 0 0 0 1 0 0 1 0 0 0 0 0 0 0 0 0 0 0 1 0 0 0 0 0 0 0 1 0\n",
            " 0 0 0 0 1 0 1 0 0 0 0 0 0 1 0 1 0 1 0 0 0 1 0 0 0 0 0 0 0 0 0 0 0 0 0 0 1\n",
            " 1 0 1 0 0 1 1 0 0 0 0 0 0 0 0 0 0 0 1 0 0 0 0 0 0 1 0 0 0 0 0 0 1 0 0 1 0\n",
            " 0 0 0 0 0 0 0 0 1 0 0 0 0 0 0 0 0 0 1 0 0 1 0 0 0 0 1 0 0 0 0 0 1 0 0]\n"
          ],
          "name": "stdout"
        }
      ]
    },
    {
      "cell_type": "code",
      "metadata": {
        "id": "UMNrJc9gu-zO",
        "colab_type": "code",
        "colab": {
          "base_uri": "https://localhost:8080/",
          "height": 168
        },
        "outputId": "a9ab606e-980b-443a-f1d6-d63b4ebb7bff"
      },
      "source": [
        "print(classification_report(y_test_encode, rfc_pred))"
      ],
      "execution_count": 51,
      "outputs": [
        {
          "output_type": "stream",
          "text": [
            "              precision    recall  f1-score   support\n",
            "\n",
            "           0       0.90      0.93      0.91       245\n",
            "           1       0.57      0.49      0.53        49\n",
            "\n",
            "    accuracy                           0.85       294\n",
            "   macro avg       0.74      0.71      0.72       294\n",
            "weighted avg       0.85      0.85      0.85       294\n",
            "\n"
          ],
          "name": "stdout"
        }
      ]
    },
    {
      "cell_type": "markdown",
      "metadata": {
        "id": "ObBlkxVHvLgJ",
        "colab_type": "text"
      },
      "source": [
        "accuracy for random forest classifer is 85%"
      ]
    },
    {
      "cell_type": "code",
      "metadata": {
        "id": "_zuGLmYUvSnO",
        "colab_type": "code",
        "colab": {
          "base_uri": "https://localhost:8080/",
          "height": 576
        },
        "outputId": "2f8c5fd2-2160-4fe7-fd11-68a54fb99350"
      },
      "source": [
        "features = x_train_encode.columns.values\n",
        "importances = rf.feature_importances_\n",
        "indices = np.argsort(importances)\n",
        "\n",
        "plt.figure(figsize=(15,15))\n",
        "plt.title('Feature Importances')\n",
        "plt.barh(range(len(indices)), importances[indices], color='b', align='center')\n",
        "plt.yticks(range(len(indices)), [features[i] for i in indices])\n",
        "plt.xlabel('Relative Importance')\n",
        "plt.show()"
      ],
      "execution_count": 52,
      "outputs": [
        {
          "output_type": "display_data",
          "data": {
            "image/png": "[encoded data removed]",
            "text/plain": [
              "<Figure size 1080x1080 with 1 Axes>"
            ]
          },
          "metadata": {
            "tags": [],
            "needs_background": "light"
          }
        }
      ]
    },
    {
      "cell_type": "markdown",
      "metadata": {
        "id": "G-WX9efpvbwa",
        "colab_type": "text"
      },
      "source": [
        "from the above graph we can say that overtime is most significant and empolyee-count is least significant."
      ]
    },
    {
      "cell_type": "markdown",
      "metadata": {
        "id": "H7NH1J5ev3UA",
        "colab_type": "text"
      },
      "source": [
        "DECISION TREE ALGO "
      ]
    },
    {
      "cell_type": "code",
      "metadata": {
        "id": "S7UX59MEvpXY",
        "colab_type": "code",
        "colab": {
          "base_uri": "https://localhost:8080/",
          "height": 118
        },
        "outputId": "ed861012-7ca1-43ed-d1d9-809280277b91"
      },
      "source": [
        "from sklearn import tree\n",
        "dt = tree.DecisionTreeClassifier()\n",
        "dt.fit(smote_train, smote_target)"
      ],
      "execution_count": 53,
      "outputs": [
        {
          "output_type": "execute_result",
          "data": {
            "text/plain": [
              "DecisionTreeClassifier(ccp_alpha=0.0, class_weight=None, criterion='gini',\n",
              "                       max_depth=None, max_features=None, max_leaf_nodes=None,\n",
              "                       min_impurity_decrease=0.0, min_impurity_split=None,\n",
              "                       min_samples_leaf=1, min_samples_split=2,\n",
              "                       min_weight_fraction_leaf=0.0, presort='deprecated',\n",
              "                       random_state=None, splitter='best')"
            ]
          },
          "metadata": {
            "tags": []
          },
          "execution_count": 53
        }
      ]
    },
    {
      "cell_type": "code",
      "metadata": {
        "id": "Cn7QxV83v_3U",
        "colab_type": "code",
        "colab": {
          "base_uri": "https://localhost:8080/",
          "height": 151
        },
        "outputId": "b237233b-dac8-4caf-a8d2-fa0c771ac2a1"
      },
      "source": [
        "dtc_pred = dt.predict(x_test_encode)\n",
        "print(dtc_pred)"
      ],
      "execution_count": 54,
      "outputs": [
        {
          "output_type": "stream",
          "text": [
            "[0 1 1 0 1 0 1 0 0 0 1 0 0 1 0 0 0 0 0 0 1 0 1 0 1 1 0 0 1 1 0 1 0 1 0 0 0\n",
            " 0 0 0 0 0 0 0 1 1 0 0 1 1 0 0 0 0 0 0 0 0 0 0 0 1 0 0 0 1 0 0 0 0 1 0 0 0\n",
            " 0 0 0 0 0 1 0 0 1 0 0 0 0 0 0 0 0 0 1 0 0 1 0 1 0 0 1 0 1 0 0 0 0 0 0 0 0\n",
            " 1 0 1 0 0 0 0 0 0 0 0 0 1 1 0 0 0 0 0 1 0 0 0 0 0 1 0 0 0 0 0 0 0 0 1 0 0\n",
            " 0 0 0 1 0 0 0 1 1 0 0 0 0 0 0 1 0 0 0 0 0 0 0 0 0 0 0 0 0 0 0 0 0 0 0 0 0\n",
            " 0 1 0 0 0 0 1 0 0 1 0 0 1 0 0 0 0 1 1 0 1 1 0 0 0 0 0 0 0 0 0 1 1 0 1 0 0\n",
            " 1 0 1 1 0 1 0 0 0 0 1 0 0 0 0 0 0 0 0 0 1 0 0 0 0 0 0 1 1 0 0 0 0 0 0 1 0\n",
            " 0 0 1 0 0 0 0 0 1 0 0 0 0 0 0 0 0 0 0 0 1 0 0 0 0 1 1 0 1 1 0 0 1 0 0]\n"
          ],
          "name": "stdout"
        }
      ]
    },
    {
      "cell_type": "code",
      "metadata": {
        "id": "KY0B1gRywO4E",
        "colab_type": "code",
        "colab": {
          "base_uri": "https://localhost:8080/",
          "height": 168
        },
        "outputId": "9c8012a0-71d5-459f-f97a-166dab7cd399"
      },
      "source": [
        "print(classification_report(y_test_encode, dtc_pred))"
      ],
      "execution_count": 56,
      "outputs": [
        {
          "output_type": "stream",
          "text": [
            "              precision    recall  f1-score   support\n",
            "\n",
            "           0       0.87      0.80      0.83       245\n",
            "           1       0.28      0.39      0.33        49\n",
            "\n",
            "    accuracy                           0.73       294\n",
            "   macro avg       0.58      0.60      0.58       294\n",
            "weighted avg       0.77      0.73      0.75       294\n",
            "\n"
          ],
          "name": "stdout"
        }
      ]
    },
    {
      "cell_type": "markdown",
      "metadata": {
        "id": "R7fjas2XwUgo",
        "colab_type": "text"
      },
      "source": [
        "accuracy for decison tree classifer is 73%"
      ]
    },
    {
      "cell_type": "markdown",
      "metadata": {
        "id": "WDnST31uwcWP",
        "colab_type": "text"
      },
      "source": [
        "LOGISTIC REGRESSION ALGO"
      ]
    },
    {
      "cell_type": "code",
      "metadata": {
        "id": "IQ-2UK7ZwbuG",
        "colab_type": "code",
        "colab": {
          "base_uri": "https://localhost:8080/",
          "height": 339
        },
        "outputId": "c58984c0-0a3e-48a7-9c9c-4709c1504880"
      },
      "source": [
        "from sklearn.linear_model import LogisticRegression\n",
        "classifier = LogisticRegression()\n",
        "classifier.fit(smote_train, smote_target)\n",
        "classifier_pred = classifier.predict(x_test_encode)\n",
        "print('Accuracy score:',accuracy_score(classifier_pred, y_test_encode))\n",
        "print(classification_report(classifier_pred, y_test_encode))"
      ],
      "execution_count": 59,
      "outputs": [
        {
          "output_type": "stream",
          "text": [
            "Accuracy score: 0.6632653061224489\n",
            "              precision    recall  f1-score   support\n",
            "\n",
            "           0       0.69      0.88      0.77       190\n",
            "           1       0.55      0.26      0.35       104\n",
            "\n",
            "    accuracy                           0.66       294\n",
            "   macro avg       0.62      0.57      0.56       294\n",
            "weighted avg       0.64      0.66      0.62       294\n",
            "\n"
          ],
          "name": "stdout"
        },
        {
          "output_type": "stream",
          "text": [
            "/usr/local/lib/python3.6/dist-packages/sklearn/linear_model/_logistic.py:940: ConvergenceWarning: lbfgs failed to converge (status=1):\n",
            "STOP: TOTAL NO. of ITERATIONS REACHED LIMIT.\n",
            "\n",
            "Increase the number of iterations (max_iter) or scale the data as shown in:\n",
            "    https://scikit-learn.org/stable/modules/preprocessing.html\n",
            "Please also refer to the documentation for alternative solver options:\n",
            "    https://scikit-learn.org/stable/modules/linear_model.html#logistic-regression\n",
            "  extra_warning_msg=_LOGISTIC_SOLVER_CONVERGENCE_MSG)\n"
          ],
          "name": "stderr"
        }
      ]
    },
    {
      "cell_type": "markdown",
      "metadata": {
        "id": "RTZeXWtJxXK5",
        "colab_type": "text"
      },
      "source": [
        "accuracy for logistic is 66%"
      ]
    },
    {
      "cell_type": "markdown",
      "metadata": {
        "id": "TGpCVUNUzP4m",
        "colab_type": "text"
      },
      "source": [
        "SVC ALGO"
      ]
    },
    {
      "cell_type": "code",
      "metadata": {
        "id": "VDTtC0Pbxila",
        "colab_type": "code",
        "colab": {
          "base_uri": "https://localhost:8080/",
          "height": 874
        },
        "outputId": "1aedb927-3039-4b24-a75c-317530bbdd02"
      },
      "source": [
        "from sklearn.svm import SVC\n",
        "for kernel in ('linear','poly','rbf'):\n",
        "    svc=SVC(kernel=kernel)\n",
        "    svc.fit(smote_train, smote_target)\n",
        "    svc_pred=svc.predict(x_test_encode)\n",
        "    print(kernel,svc_pred) \n",
        "    print(\"******\",kernel,\"******\",end=\" \")\n",
        "\n",
        "    print(classification_report(svc_pred,y_test_encode))"
      ],
      "execution_count": 61,
      "outputs": [
        {
          "output_type": "stream",
          "text": [
            "linear [0 1 1 0 1 0 1 0 0 0 0 1 0 1 0 0 1 0 0 0 0 0 0 0 1 1 0 0 1 0 0 0 0 0 0 0 1\n",
            " 0 0 0 0 0 0 0 0 1 0 0 1 1 0 0 0 0 1 0 0 0 0 0 0 1 0 0 0 0 0 0 0 1 0 0 0 0\n",
            " 0 0 0 0 0 0 0 0 0 0 0 0 0 0 0 0 1 0 1 0 0 0 1 1 0 0 1 1 1 0 0 0 0 0 0 0 0\n",
            " 0 0 0 0 0 0 0 0 0 0 0 0 1 0 0 0 0 0 0 0 0 0 0 0 1 1 0 0 0 0 0 0 0 0 0 0 0\n",
            " 0 0 0 0 0 0 0 0 0 0 0 0 1 0 0 1 0 0 0 0 0 0 0 0 0 0 0 0 0 0 0 0 0 0 0 1 0\n",
            " 0 1 0 1 1 1 1 0 0 0 0 0 0 0 0 0 1 1 0 0 0 1 0 0 0 0 0 0 0 0 0 0 0 0 1 0 1\n",
            " 1 1 1 0 0 0 1 0 0 0 0 0 0 0 1 0 0 0 0 1 0 0 0 0 0 1 0 0 1 0 1 0 0 0 0 0 1\n",
            " 0 0 0 0 0 0 0 0 0 0 0 0 0 0 0 0 0 0 0 0 0 1 0 0 0 0 0 0 0 0 0 0 1 0 0]\n",
            "****** linear ******               precision    recall  f1-score   support\n",
            "\n",
            "           0       0.89      0.90      0.89       242\n",
            "           1       0.49      0.46      0.48        52\n",
            "\n",
            "    accuracy                           0.82       294\n",
            "   macro avg       0.69      0.68      0.68       294\n",
            "weighted avg       0.82      0.82      0.82       294\n",
            "\n",
            "poly [1 1 1 0 1 1 1 1 1 1 0 1 0 1 0 1 1 1 1 1 1 0 1 1 1 1 1 1 1 1 1 1 1 1 1 0 0\n",
            " 1 1 1 1 0 0 1 1 1 1 1 1 1 0 1 1 1 1 1 1 1 1 1 1 1 1 0 0 0 1 1 1 1 1 1 1 0\n",
            " 1 1 1 0 1 1 0 0 1 1 1 0 0 1 0 1 1 1 1 1 0 1 1 1 1 1 1 1 0 1 1 1 1 1 1 1 1\n",
            " 0 1 1 1 1 1 0 0 1 1 1 1 1 1 0 0 1 1 1 0 1 1 0 0 1 1 1 1 1 0 1 1 1 1 1 1 0\n",
            " 1 1 1 0 1 0 0 1 0 1 1 1 0 1 1 1 1 1 1 1 1 0 0 1 1 1 0 1 0 0 1 0 1 1 0 1 1\n",
            " 1 1 1 1 1 1 1 1 1 1 1 1 0 1 1 1 1 1 0 1 0 1 0 1 1 1 1 1 1 1 0 0 1 0 1 1 1\n",
            " 1 0 1 1 1 1 1 1 0 1 1 1 1 1 1 0 1 0 1 1 0 1 1 0 1 1 1 0 1 1 1 0 1 0 0 1 1\n",
            " 1 1 1 0 0 1 1 1 1 1 1 1 1 1 1 1 1 1 1 1 1 1 1 1 0 0 1 0 1 0 1 1 1 1 1]\n",
            "****** poly ******               precision    recall  f1-score   support\n",
            "\n",
            "           0       0.26      0.96      0.41        67\n",
            "           1       0.94      0.20      0.33       227\n",
            "\n",
            "    accuracy                           0.37       294\n",
            "   macro avg       0.60      0.58      0.37       294\n",
            "weighted avg       0.78      0.37      0.35       294\n",
            "\n",
            "rbf [0 1 1 0 1 1 1 0 0 0 0 1 0 1 0 1 0 1 0 1 1 0 0 0 1 1 1 0 1 0 0 1 0 0 0 0 0\n",
            " 1 0 1 1 0 0 0 1 1 1 0 1 1 0 1 0 0 1 1 0 0 1 1 1 0 1 0 0 0 1 1 1 1 0 1 1 0\n",
            " 0 1 1 0 1 0 0 0 1 1 1 0 0 1 0 0 1 0 0 1 0 1 1 0 1 1 1 0 0 0 1 0 0 1 1 1 0\n",
            " 0 0 0 1 1 0 0 0 0 1 1 0 1 0 0 0 0 0 0 0 1 1 0 0 1 1 1 0 0 0 1 0 0 1 0 0 0\n",
            " 0 0 1 0 1 0 0 1 0 1 1 0 0 1 1 1 0 0 0 1 1 0 0 1 1 1 0 1 0 0 1 0 0 0 0 0 1\n",
            " 1 0 1 0 1 1 1 1 1 1 1 0 0 1 1 1 1 1 0 1 0 1 0 0 0 1 1 0 1 1 0 0 1 0 1 1 1\n",
            " 1 0 1 1 1 1 1 1 0 1 1 0 0 0 1 1 1 0 1 1 0 0 0 0 0 1 1 0 1 0 1 0 1 0 0 1 1\n",
            " 1 0 0 0 0 0 1 0 1 0 0 1 0 1 0 1 0 0 1 1 1 1 1 1 0 0 1 0 0 0 0 1 0 0 0]\n",
            "****** rbf ******               precision    recall  f1-score   support\n",
            "\n",
            "           0       0.56      0.90      0.69       152\n",
            "           1       0.69      0.24      0.36       142\n",
            "\n",
            "    accuracy                           0.58       294\n",
            "   macro avg       0.63      0.57      0.52       294\n",
            "weighted avg       0.62      0.58      0.53       294\n",
            "\n"
          ],
          "name": "stdout"
        }
      ]
    },
    {
      "cell_type": "markdown",
      "metadata": {
        "id": "hNIsCo8h0jQC",
        "colab_type": "text"
      },
      "source": [
        "Comparing algos using their accuracy."
      ]
    },
    {
      "cell_type": "code",
      "metadata": {
        "id": "TztSWhK6yTzi",
        "colab_type": "code",
        "colab": {}
      },
      "source": [
        "algos=[\"logistic\",\"RFC\",\"decisiontree\",\"linearSVC\",\"poly SVC\",\"rbf svc\"]\n",
        "accuracy=[66,85,73,82,37,58]"
      ],
      "execution_count": 0,
      "outputs": []
    },
    {
      "cell_type": "code",
      "metadata": {
        "id": "oTXX-RZLz2J_",
        "colab_type": "code",
        "colab": {
          "base_uri": "https://localhost:8080/",
          "height": 298
        },
        "outputId": "c20813e2-0ada-443d-fa68-59a8e886666e"
      },
      "source": [
        "xpos=np.arange(len(algos))\n",
        "plt.bar(xpos,accuracy,width=0.5,align=\"center\")\n",
        "plt.xticks(xpos,algos)\n",
        "plt.title(\"Accuracy\")\n",
        "\n"
      ],
      "execution_count": 64,
      "outputs": [
        {
          "output_type": "execute_result",
          "data": {
            "text/plain": [
              "Text(0.5, 1.0, 'Accuracy')"
            ]
          },
          "metadata": {
            "tags": []
          },
          "execution_count": 64
        },
        {
          "output_type": "display_data",
          "data": {
            "image/png": "[encoded data removed]",
            "text/plain": [
              "<Figure size 432x288 with 1 Axes>"
            ]
          },
          "metadata": {
            "tags": [],
            "needs_background": "light"
          }
        }
      ]
    }
  ]
}